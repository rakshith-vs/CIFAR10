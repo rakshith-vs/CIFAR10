{
 "cells": [
  {
   "cell_type": "code",
   "execution_count": 27,
   "id": "productive-blind",
   "metadata": {},
   "outputs": [],
   "source": [
    "import tensorflow as tf\n",
    "\n",
    "from tensorflow import keras\n",
    "\n",
    "from keras.models import Sequential\n",
    "\n",
    "from keras.layers import Dense, Flatten, Conv2D, MaxPooling2D, Dropout, Embedding\n",
    "\n",
    "from keras.utils import to_categorical\n",
    "\n",
    "import numpy as np\n",
    "\n",
    "import matplotlib.pyplot as plt\n",
    "\n",
    "plt.style.use('fivethirtyeight') #The stylesheet for plotting. There are different types"
   ]
  },
  {
   "cell_type": "code",
   "execution_count": 28,
   "id": "seventh-snake",
   "metadata": {},
   "outputs": [],
   "source": [
    "#Loading the Data\n",
    "from keras.datasets import cifar10\n",
    "\n",
    "(x_train,y_train), (x_test,y_test) = cifar10.load_data()"
   ]
  },
  {
   "cell_type": "code",
   "execution_count": 29,
   "id": "rental-atlas",
   "metadata": {},
   "outputs": [
    {
     "name": "stdout",
     "output_type": "stream",
     "text": [
      "x_train shape: (50000, 32, 32, 3)\n",
      "y_train shape (50000, 1)\n",
      "x_test shape: (10000, 32, 32, 3)\n",
      "y_test shape: (10000, 1)\n"
     ]
    }
   ],
   "source": [
    "#Checking shape of train and test sets\n",
    "\n",
    "print('x_train shape:', x_train.shape)\n",
    "\n",
    "print('y_train shape', y_train.shape)\n",
    "\n",
    "print('x_test shape:', x_test.shape)\n",
    "\n",
    "print('y_test shape:', y_test.shape)"
   ]
  },
  {
   "cell_type": "code",
   "execution_count": 30,
   "id": "appropriate-hughes",
   "metadata": {},
   "outputs": [
    {
     "data": {
      "image/png": "[encoded data removed]",
      "text/plain": [
       "<Figure size 432x288 with 1 Axes>"
      ]
     },
     "metadata": {},
     "output_type": "display_data"
    }
   ],
   "source": [
    "img = plt.imshow(x_train[1])"
   ]
  },
  {
   "cell_type": "code",
   "execution_count": 31,
   "id": "joined-prime",
   "metadata": {},
   "outputs": [],
   "source": [
    "#One hot encoding y train and y test\n",
    "\n",
    "y_train_oh = to_categorical(y_train)\n",
    "\n",
    "y_test_oh = to_categorical(y_test)"
   ]
  },
  {
   "cell_type": "code",
   "execution_count": 32,
   "id": "offensive-housing",
   "metadata": {},
   "outputs": [],
   "source": [
    "#Normalizing the x_train and test DS\n",
    "\n",
    "#diving the elements of dataset by 255 as the maximum value of a pixel is 255. Hence the values are scaled down to (0,1)\n",
    "\n",
    "x_train = x_train/255\n",
    "\n",
    "x_test = x_test/255"
   ]
  },
  {
   "cell_type": "code",
   "execution_count": 33,
   "id": "extra-comment",
   "metadata": {},
   "outputs": [],
   "source": [
    "model = Sequential()\n",
    "\n",
    "model.add(Conv2D(32,(5,5), activation='relu', input_shape = (32,32,3)))\n",
    "model.add(MaxPooling2D(pool_size=(2,2)))\n",
    "\n",
    "model.add(Conv2D(64,(5,5), activation='relu'))\n",
    "model.add(MaxPooling2D(pool_size=(2,2)))\n",
    "\n",
    "model.add(Flatten())\n",
    "\n",
    "model.add(Dense(1000, activation='relu'))\n",
    "model.add(Dropout(0.5))\n",
    "\n",
    "model.add(Dense(500, activation='relu'))\n",
    "model.add(Dropout(0.5))\n",
    "\n",
    "model.add(Dense(250, activation='relu'))\n",
    "model.add(Dense(10, activation='softmax'))\n",
    "\n",
    "\n",
    "model.compile(loss='categorical_crossentropy', optimizer='adam', metrics=['accuracy'])\n",
    "\n",
    "\n"
   ]
  },
  {
   "cell_type": "code",
   "execution_count": 34,
   "id": "relevant-yorkshire",
   "metadata": {},
   "outputs": [
    {
     "name": "stdout",
     "output_type": "stream",
     "text": [
      "Model: \"sequential_3\"\n",
      "_________________________________________________________________\n",
      "Layer (type)                 Output Shape              Param #   \n",
      "=================================================================\n",
      "conv2d_4 (Conv2D)            (None, 28, 28, 32)        2432      \n",
      "_________________________________________________________________\n",
      "max_pooling2d_3 (MaxPooling2 (None, 14, 14, 32)        0         \n",
      "_________________________________________________________________\n",
      "conv2d_5 (Conv2D)            (None, 10, 10, 64)        51264     \n",
      "_________________________________________________________________\n",
      "max_pooling2d_4 (MaxPooling2 (None, 5, 5, 64)          0         \n",
      "_________________________________________________________________\n",
      "flatten_1 (Flatten)          (None, 1600)              0         \n",
      "_________________________________________________________________\n",
      "dense_4 (Dense)              (None, 1000)              1601000   \n",
      "_________________________________________________________________\n",
      "dropout_2 (Dropout)          (None, 1000)              0         \n",
      "_________________________________________________________________\n",
      "dense_5 (Dense)              (None, 500)               500500    \n",
      "_________________________________________________________________\n",
      "dropout_3 (Dropout)          (None, 500)               0         \n",
      "_________________________________________________________________\n",
      "dense_6 (Dense)              (None, 250)               125250    \n",
      "_________________________________________________________________\n",
      "dense_7 (Dense)              (None, 10)                2510      \n",
      "=================================================================\n",
      "Total params: 2,282,956\n",
      "Trainable params: 2,282,956\n",
      "Non-trainable params: 0\n",
      "_________________________________________________________________\n"
     ]
    }
   ],
   "source": [
    "model.summary()"
   ]
  },
  {
   "cell_type": "code",
   "execution_count": 35,
   "id": "fantastic-capture",
   "metadata": {},
   "outputs": [
    {
     "name": "stdout",
     "output_type": "stream",
     "text": [
      "Epoch 1/10\n",
      "157/157 [==============================] - 48s 308ms/step - loss: 1.7928 - accuracy: 0.3252 - val_loss: 1.5027 - val_accuracy: 0.4594\n",
      "Epoch 2/10\n",
      "157/157 [==============================] - 39s 249ms/step - loss: 1.3989 - accuracy: 0.4882 - val_loss: 1.2713 - val_accuracy: 0.5421\n",
      "Epoch 3/10\n",
      "157/157 [==============================] - 37s 237ms/step - loss: 1.2373 - accuracy: 0.5539 - val_loss: 1.1271 - val_accuracy: 0.5969\n",
      "Epoch 4/10\n",
      "157/157 [==============================] - 38s 245ms/step - loss: 1.1086 - accuracy: 0.6046 - val_loss: 1.0611 - val_accuracy: 0.6205\n",
      "Epoch 5/10\n",
      "157/157 [==============================] - 38s 244ms/step - loss: 1.0166 - accuracy: 0.6385 - val_loss: 0.9891 - val_accuracy: 0.6516\n",
      "Epoch 6/10\n",
      "157/157 [==============================] - 38s 241ms/step - loss: 0.9386 - accuracy: 0.6665 - val_loss: 0.9205 - val_accuracy: 0.6770\n",
      "Epoch 7/10\n",
      "157/157 [==============================] - 41s 263ms/step - loss: 0.8742 - accuracy: 0.6897 - val_loss: 0.9096 - val_accuracy: 0.6808\n",
      "Epoch 8/10\n",
      "157/157 [==============================] - 44s 279ms/step - loss: 0.8154 - accuracy: 0.7138 - val_loss: 0.9319 - val_accuracy: 0.6775\n",
      "Epoch 9/10\n",
      "157/157 [==============================] - 39s 250ms/step - loss: 0.7596 - accuracy: 0.7319 - val_loss: 0.8911 - val_accuracy: 0.6914\n",
      "Epoch 10/10\n",
      "157/157 [==============================] - 41s 264ms/step - loss: 0.6952 - accuracy: 0.7535 - val_loss: 0.9371 - val_accuracy: 0.6776\n"
     ]
    }
   ],
   "source": [
    "hist = model.fit(x_train, y_train_oh, batch_size=256, epochs=10, validation_split=0.2)"
   ]
  },
  {
   "cell_type": "code",
   "execution_count": 36,
   "id": "martial-circumstances",
   "metadata": {},
   "outputs": [
    {
     "name": "stdout",
     "output_type": "stream",
     "text": [
      "313/313 [==============================] - 4s 13ms/step - loss: 0.9484 - accuracy: 0.6685\n"
     ]
    },
    {
     "data": {
      "text/plain": [
       "0.6685000061988831"
      ]
     },
     "execution_count": 36,
     "metadata": {},
     "output_type": "execute_result"
    }
   ],
   "source": [
    "model.evaluate(x_test, y_test_oh)[1]"
   ]
  },
  {
   "cell_type": "code",
   "execution_count": 37,
   "id": "artistic-commonwealth",
   "metadata": {},
   "outputs": [
    {
     "data": {
      "image/png": "[encoded data removed]",
      "text/plain": [
       "<Figure size 432x288 with 1 Axes>"
      ]
     },
     "metadata": {},
     "output_type": "display_data"
    }
   ],
   "source": [
    "#Visualize the model accuracy\n",
    "\n",
    "plt.plot(hist.history['accuracy'])\n",
    "\n",
    "plt.plot(hist.history['val_accuracy'])\n",
    "\n",
    "plt.title('Model Accuracy')\n",
    "\n",
    "plt.xlabel('Epoch')\n",
    "\n",
    "plt.ylabel('Accuracy')\n",
    "\n",
    "plt.legend(['Train', 'Val'], loc='upper left')\n",
    "            \n",
    "plt.show()\n"
   ]
  },
  {
   "cell_type": "code",
   "execution_count": 38,
   "id": "postal-miller",
   "metadata": {},
   "outputs": [
    {
     "data": {
      "text/plain": [
       "array([[[0.23137255, 0.24313725, 0.24705882],\n",
       "        [0.16862745, 0.18039216, 0.17647059],\n",
       "        [0.19607843, 0.18823529, 0.16862745],\n",
       "        ...,\n",
       "        [0.61960784, 0.51764706, 0.42352941],\n",
       "        [0.59607843, 0.49019608, 0.4       ],\n",
       "        [0.58039216, 0.48627451, 0.40392157]],\n",
       "\n",
       "       [[0.0627451 , 0.07843137, 0.07843137],\n",
       "        [0.        , 0.        , 0.        ],\n",
       "        [0.07058824, 0.03137255, 0.        ],\n",
       "        ...,\n",
       "        [0.48235294, 0.34509804, 0.21568627],\n",
       "        [0.46666667, 0.3254902 , 0.19607843],\n",
       "        [0.47843137, 0.34117647, 0.22352941]],\n",
       "\n",
       "       [[0.09803922, 0.09411765, 0.08235294],\n",
       "        [0.0627451 , 0.02745098, 0.        ],\n",
       "        [0.19215686, 0.10588235, 0.03137255],\n",
       "        ...,\n",
       "        [0.4627451 , 0.32941176, 0.19607843],\n",
       "        [0.47058824, 0.32941176, 0.19607843],\n",
       "        [0.42745098, 0.28627451, 0.16470588]],\n",
       "\n",
       "       ...,\n",
       "\n",
       "       [[0.81568627, 0.66666667, 0.37647059],\n",
       "        [0.78823529, 0.6       , 0.13333333],\n",
       "        [0.77647059, 0.63137255, 0.10196078],\n",
       "        ...,\n",
       "        [0.62745098, 0.52156863, 0.2745098 ],\n",
       "        [0.21960784, 0.12156863, 0.02745098],\n",
       "        [0.20784314, 0.13333333, 0.07843137]],\n",
       "\n",
       "       [[0.70588235, 0.54509804, 0.37647059],\n",
       "        [0.67843137, 0.48235294, 0.16470588],\n",
       "        [0.72941176, 0.56470588, 0.11764706],\n",
       "        ...,\n",
       "        [0.72156863, 0.58039216, 0.36862745],\n",
       "        [0.38039216, 0.24313725, 0.13333333],\n",
       "        [0.3254902 , 0.20784314, 0.13333333]],\n",
       "\n",
       "       [[0.69411765, 0.56470588, 0.45490196],\n",
       "        [0.65882353, 0.50588235, 0.36862745],\n",
       "        [0.70196078, 0.55686275, 0.34117647],\n",
       "        ...,\n",
       "        [0.84705882, 0.72156863, 0.54901961],\n",
       "        [0.59215686, 0.4627451 , 0.32941176],\n",
       "        [0.48235294, 0.36078431, 0.28235294]]])"
      ]
     },
     "execution_count": 38,
     "metadata": {},
     "output_type": "execute_result"
    }
   ],
   "source": [
    "x_train[0]"
   ]
  }
 ],
 "metadata": {
  "kernelspec": {
   "display_name": "Python 3",
   "language": "python",
   "name": "python3"
  },
  "language_info": {
   "codemirror_mode": {
    "name": "ipython",
    "version": 3
   },
   "file_extension": ".py",
   "mimetype": "text/x-python",
   "name": "python",
   "nbconvert_exporter": "python",
   "pygments_lexer": "ipython3",
   "version": "3.7.10"
  }
 },
 "nbformat": 4,
 "nbformat_minor": 5
}
